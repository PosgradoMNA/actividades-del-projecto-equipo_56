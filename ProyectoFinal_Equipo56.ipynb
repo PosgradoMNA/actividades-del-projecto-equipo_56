{
  "nbformat": 4,
  "nbformat_minor": 0,
  "metadata": {
    "colab": {
      "name": "assignment01.ipynb",
      "provenance": [],
      "include_colab_link": true
    },
    "kernelspec": {
      "name": "python3",
      "display_name": "Python 3"
    },
    "language_info": {
      "name": "python"
    }
  },
  "cells": [
    {
      "cell_type": "markdown",
      "metadata": {
        "id": "view-in-github",
        "colab_type": "text"
      },
      "source": [
        "<a href=\"https://colab.research.google.com/github/PosgradoMNA/actividades-del-projecto-equipo_56/blob/main/ProyectoFinal_Equipo56.ipynb\" target=\"_parent\"><img src=\"https://colab.research.google.com/assets/colab-badge.svg\" alt=\"Open In Colab\"/></a>"
      ]
    },
    {
      "cell_type": "markdown",
      "source": [
        "**INSTITUTO TECNOLÓGICO Y DE ESTUDIOS SUPERIORES DE MONTERREY**\n",
        " \n",
        "\n",
        " \n",
        "**Maestría en Inteligencia Artificial**\n",
        "\n",
        "![LogoTec.jpg](data:image/jpeg;base64,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)\n",
        "\n",
        "**Presenta:**\n",
        "**Proyecto Final Equipo 56**\n",
        "\n",
        "**Tema:**\n",
        "\n",
        "**Credit Card Transactions Fraud Detection**\n",
        "\n",
        "**Materia:**\n",
        "\n",
        "**TC4029.10 - Ciencia y Análitica de Datos**\n",
        "\n",
        "**Profesor Titular:**\n",
        "**Dr. Luis Eduardo Falcón Morales**\n",
        "\n",
        "**Alumno:**\n",
        "\n",
        "*   **A01793625 - Luis Angel Hermenegildo Dominguez**\n",
        "*   **A01332665 - Hector Montañez Alvarez**\n",
        "\n",
        "\n",
        "\n",
        "\n",
        "**septiembre de 2022**\n"
      ],
      "metadata": {
        "id": "jVfY2OpVqH8x"
      }
    },
    {
      "cell_type": "markdown",
      "source": [
        "*  **El nombre que caracteriza el conjunto de datos:**\n",
        "\n",
        "Credit Card Transactions Fraud Detection DataSet"
      ],
      "metadata": {
        "id": "d5BWP_B4q_ZO"
      }
    },
    {
      "cell_type": "markdown",
      "source": [
        "*   **La organización que lo generó:**\n",
        "\n",
        "Sparkov Data Generation | Github tool created by Brandon Harris"
      ],
      "metadata": {
        "id": "v07VC0hpLBWG"
      }
    },
    {
      "cell_type": "markdown",
      "source": [
        "*   **Incluya un enlace de Internet donde se puedan descargar el base de datos en línea:**\n",
        "\n",
        "https://www.kaggle.com/datasets/kartik2112/fraud-detection?select=fraudTest.csv"
      ],
      "metadata": {
        "id": "w8Z-8r4kLDTj"
      }
    },
    {
      "cell_type": "markdown",
      "source": [
        "*   **Describe el conjunto de datos. ¿Qué datos contiene?**\n",
        "\n",
        "El dataset fue generado usando Sparkov Data Generation | Herramienta Github. En esta simulación se ejecutó desde el 1 de enero de 2019 hasta el 31 de diciembre de 2020. Los archivos se combinaron y convirtieron a un formato estándar.\n",
        "\n",
        "El conjunto de datos con el que se cuenta corresponder a la detección de fraude en transacciones con tarjetas de crédito el cual cuenta con un conjunto de datos de entrenamiento y un conjunto de datos de prueba.\n",
        "\n",
        "En total se cuentan con los siguientes datos (los datos originales son extensos, sin embargo, se pueden reducir basado en las fechas):\n",
        "\n",
        "\n",
        "*   FraudTest.csv total 555720 registros\n",
        "*   fraudTrain.csv total 1296676 registros\n",
        "\n",
        "\n",
        "\n",
        "El dataset está compuesto de las siguientes columnas:\n",
        "\n",
        "*   trans_date_trans_time: Fecha de la transferencia\n",
        "*   cc_num: CC Num\n",
        "*   merchant: Comerciante\n",
        "*   category: Categoria\n",
        "*   amt: Cantidad\n",
        "*   first: Nombre\n",
        "*   last: Apellido\n",
        "*   gender: Genero\n",
        "*   street: Calle\n",
        "*   city: Ciudad\n",
        "*   state: Estado\n",
        "*   zip: Código Postal\n",
        "*   lat: Latitud\n",
        "*   long: Longitud\n",
        "*   city_pop: Población de la Ciudad\n",
        "*   job: Trabajo\n",
        "*   dob: Fecha de transferencia\n",
        "*   trans_num: Número de transferencia\n",
        "*   unix_time: Tiempo en formato unix\n",
        "*   merch_lat:\n",
        "*   merch_long: \n",
        "*   is_fraud: Booleano para determinar el fraude"
      ],
      "metadata": {
        "id": "yf-ehVy9LPrx"
      }
    },
    {
      "cell_type": "markdown",
      "source": [
        "* **¿Cuáles son algunas de las preguntas de investigación que podría responder con estos datos? Enumere al menos OCHO (no responda las preguntas).**\n",
        "\n",
        "\n",
        "\n",
        "1.   ¿Cuales son las ciudades más propensas a realizar fraudes con tarjeta de credito?\n",
        "2.   ¿Cuales son las categorias de compras con mayor tasa de fraude?\n",
        "3.   ¿Cuál es la probabilidad de recibir fraude si soy hombre y vivo en Texas?\n",
        "4.   ¿Cuál es la tasa de fraudes basada en la población de la ciudad?\n",
        "5.   ¿Si deseo realizar una compra de entretenimiento, cual es la probabilidad de que sea fraude si soy mujer?\n",
        "6.   ¿Cuales son las profesiones con mayor tendencia a recibir fraude?\n",
        "7.   ¿Cuales es el día de la semana en el que más fraude se comete?\n",
        "8.   ¿Cuál es el mes que más fraude tiene?\n",
        "\n"
      ],
      "metadata": {
        "id": "xR_9d03iLQ97"
      }
    },
    {
      "cell_type": "markdown",
      "source": [
        "*   **¿Qué actor (empresa, sector de la sociedad, organismo descentralizado, gobierno, etc.) estaría interesado en las preguntas mencionadas que identificó?**\n",
        "\n",
        "Dado que el estudio esta enfocado a la industria del fraude bancario, las empresas mayormente interesadas son los bancos dado que ayudaría a mejorar la estrategia de seguridad que hoy en día se lleva a cabo, permitiendo mejorar la seguridad de sus dispositivos, los metodos de autenticación, detectar los principales sectores de riesgo, además de proponer mecanismos de seguridad especificos a los diferentes sectores. Por otra parte, se pueden identificar ciertos patrones de compra basadas en los diversos sectores enfocandose en varias caracteristicas tales como la edad, la ocupación, la región y el genero.\n",
        "Además de permitir identificar los horarios y fechas con mayor tendencia al fraude para hacer más estrictos los estandares de seguridad con el fin de reducirlos.\n",
        "\n",
        "El crecimiento y uso de nuevas tecnologías como el big data permite poder identificar los fraudes bancarios mendiante el historial de las transacciones almacenado en grandes volumenes de información. Se abre la puerta a que mediante el análisis de los datos podamos identificar ciertos patrones de comportamiento, clasificar ciertos perfiles, descubrir tendencias y anomalias en el comportamiento de los datos, generar predicciones a partir del uso de algoritmos de machine learning y poder generar visualizaciones que nos ayuden a comprender de mejor manera la información."
      ],
      "metadata": {
        "id": "M1Z-Uy0LLXhh"
      }
    },
    {
      "cell_type": "markdown",
      "source": [
        "**Referencia bibliográfica**\n",
        "\n",
        "Credit Card Transactions Fraud Detection Dataset. (2020, 5 agosto). Kaggle. Recuperado 21 de septiembre de 2022, de https://www.kaggle.com/datasets/kartik2112/fraud-detection?select=fraudTest.csv\n"
      ],
      "metadata": {
        "id": "FBEkTp1IdXBO"
      }
    }
  ]
}