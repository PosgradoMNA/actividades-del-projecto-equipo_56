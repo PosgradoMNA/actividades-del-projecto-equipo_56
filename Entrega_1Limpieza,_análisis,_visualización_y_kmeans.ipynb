{
 "cells": [
  {
   "cell_type": "markdown",
   "metadata": {
    "colab_type": "text",
    "id": "view-in-github"
   },
   "source": [
    "<a href=\"https://colab.research.google.com/github/PosgradoMNA/actividades-del-projecto-equipo_56/blob/main/Entrega_1Limpieza%2C_an%C3%A1lisis%2C_visualizaci%C3%B3n_y_kmeans.ipynb\" target=\"_parent\"><img src=\"https://colab.research.google.com/assets/colab-badge.svg\" alt=\"Open In Colab\"/></a>"
   ]
  },
  {
   "cell_type": "code",
   "execution_count": 1,
   "metadata": {
    "id": "8lbBm8i8aSWe"
   },
   "outputs": [],
   "source": [
    "import pandas as pd\n",
    "import numpy as np\n",
    "import matplotlib.pyplot as plt\n",
    "from sklearn.model_selection import train_test_split, GridSearchCV\n",
    "from sklearn.pipeline import Pipeline\n",
    "from sklearn.compose import ColumnTransformer\n",
    "from sklearn.impute import SimpleImputer\n",
    "from sklearn.preprocessing import MinMaxScaler, OneHotEncoder, StandardScaler\n",
    "from sklearn.model_selection import cross_validate, learning_curve, validation_curve\n",
    "from sklearn.model_selection import RepeatedStratifiedKFold\n",
    "from sklearn.metrics import confusion_matrix, make_scorer\n",
    "from sklearn.dummy import DummyClassifier\n",
    "from sklearn.linear_model import LinearRegression\n",
    "from sklearn.ensemble import RandomForestRegressor\n",
    "from sklearn.neural_network import MLPRegressor\n",
    "from sklearn.model_selection import RepeatedKFold\n",
    "from sklearn import metrics\n",
    "from math import isnan\n",
    "from sklearn.preprocessing import FunctionTransformer, PowerTransformer, QuantileTransformer\n",
    "from sklearn.preprocessing import power_transform, quantile_transform\n",
    "from sklearn.inspection import permutation_importance\n",
    "from sklearn.svm import SVC\n",
    "from sklearn.metrics import RocCurveDisplay\n",
    "import seaborn as sns \n",
    "import warnings\n",
    "\n",
    "%matplotlib inline"
   ]
  },
  {
   "cell_type": "code",
   "execution_count": 2,
   "metadata": {
    "colab": {
     "base_uri": "https://localhost:8080/",
     "height": 416
    },
    "id": "k09FPdbGaZ4f",
    "outputId": "4a6f219a-204e-4c7f-99cd-5a48c458df7c"
   },
   "outputs": [
    {
     "data": {
      "text/html": [
       "<div>\n",
       "<style scoped>\n",
       "    .dataframe tbody tr th:only-of-type {\n",
       "        vertical-align: middle;\n",
       "    }\n",
       "\n",
       "    .dataframe tbody tr th {\n",
       "        vertical-align: top;\n",
       "    }\n",
       "\n",
       "    .dataframe thead th {\n",
       "        text-align: right;\n",
       "    }\n",
       "</style>\n",
       "<table border=\"1\" class=\"dataframe\">\n",
       "  <thead>\n",
       "    <tr style=\"text-align: right;\">\n",
       "      <th></th>\n",
       "      <th>CLAVE</th>\n",
       "      <th>SITIO</th>\n",
       "      <th>ORGANISMO_DE_CUENCA</th>\n",
       "      <th>ESTADO</th>\n",
       "      <th>MUNICIPIO</th>\n",
       "      <th>ACUIFERO</th>\n",
       "      <th>SUBTIPO</th>\n",
       "      <th>LONGITUD</th>\n",
       "      <th>LATITUD</th>\n",
       "      <th>PERIODO</th>\n",
       "      <th>...</th>\n",
       "      <th>CUMPLE_CON_DUR</th>\n",
       "      <th>CUMPLE_CON_CF</th>\n",
       "      <th>CUMPLE_CON_NO3</th>\n",
       "      <th>CUMPLE_CON_AS</th>\n",
       "      <th>CUMPLE_CON_CD</th>\n",
       "      <th>CUMPLE_CON_CR</th>\n",
       "      <th>CUMPLE_CON_HG</th>\n",
       "      <th>CUMPLE_CON_PB</th>\n",
       "      <th>CUMPLE_CON_MN</th>\n",
       "      <th>CUMPLE_CON_FE</th>\n",
       "    </tr>\n",
       "  </thead>\n",
       "  <tbody>\n",
       "    <tr>\n",
       "      <th>0</th>\n",
       "      <td>DLAGU6</td>\n",
       "      <td>POZO SAN GIL</td>\n",
       "      <td>LERMA SANTIAGO PACIFICO</td>\n",
       "      <td>AGUASCALIENTES</td>\n",
       "      <td>ASIENTOS</td>\n",
       "      <td>VALLE DE CHICALOTE</td>\n",
       "      <td>POZO</td>\n",
       "      <td>-102.02210</td>\n",
       "      <td>22.20887</td>\n",
       "      <td>2020</td>\n",
       "      <td>...</td>\n",
       "      <td>SI</td>\n",
       "      <td>SI</td>\n",
       "      <td>SI</td>\n",
       "      <td>SI</td>\n",
       "      <td>SI</td>\n",
       "      <td>SI</td>\n",
       "      <td>SI</td>\n",
       "      <td>SI</td>\n",
       "      <td>SI</td>\n",
       "      <td>SI</td>\n",
       "    </tr>\n",
       "    <tr>\n",
       "      <th>1</th>\n",
       "      <td>DLAGU6516</td>\n",
       "      <td>POZO R013 CAÑADA HONDA</td>\n",
       "      <td>LERMA SANTIAGO PACIFICO</td>\n",
       "      <td>AGUASCALIENTES</td>\n",
       "      <td>AGUASCALIENTES</td>\n",
       "      <td>VALLE DE CHICALOTE</td>\n",
       "      <td>POZO</td>\n",
       "      <td>-102.20075</td>\n",
       "      <td>21.99958</td>\n",
       "      <td>2020</td>\n",
       "      <td>...</td>\n",
       "      <td>SI</td>\n",
       "      <td>SI</td>\n",
       "      <td>SI</td>\n",
       "      <td>SI</td>\n",
       "      <td>SI</td>\n",
       "      <td>SI</td>\n",
       "      <td>SI</td>\n",
       "      <td>SI</td>\n",
       "      <td>SI</td>\n",
       "      <td>SI</td>\n",
       "    </tr>\n",
       "    <tr>\n",
       "      <th>2</th>\n",
       "      <td>DLAGU7</td>\n",
       "      <td>POZO COSIO</td>\n",
       "      <td>LERMA SANTIAGO PACIFICO</td>\n",
       "      <td>AGUASCALIENTES</td>\n",
       "      <td>COSIO</td>\n",
       "      <td>VALLE DE AGUASCALIENTES</td>\n",
       "      <td>POZO</td>\n",
       "      <td>-102.28801</td>\n",
       "      <td>22.36685</td>\n",
       "      <td>2020</td>\n",
       "      <td>...</td>\n",
       "      <td>SI</td>\n",
       "      <td>SI</td>\n",
       "      <td>SI</td>\n",
       "      <td>NO</td>\n",
       "      <td>SI</td>\n",
       "      <td>SI</td>\n",
       "      <td>SI</td>\n",
       "      <td>SI</td>\n",
       "      <td>SI</td>\n",
       "      <td>SI</td>\n",
       "    </tr>\n",
       "    <tr>\n",
       "      <th>3</th>\n",
       "      <td>DLAGU9</td>\n",
       "      <td>POZO EL SALITRILLO</td>\n",
       "      <td>LERMA SANTIAGO PACIFICO</td>\n",
       "      <td>AGUASCALIENTES</td>\n",
       "      <td>RINCON DE ROMOS</td>\n",
       "      <td>VALLE DE AGUASCALIENTES</td>\n",
       "      <td>POZO</td>\n",
       "      <td>-102.29449</td>\n",
       "      <td>22.18435</td>\n",
       "      <td>2020</td>\n",
       "      <td>...</td>\n",
       "      <td>SI</td>\n",
       "      <td>SI</td>\n",
       "      <td>SI</td>\n",
       "      <td>SI</td>\n",
       "      <td>SI</td>\n",
       "      <td>SI</td>\n",
       "      <td>SI</td>\n",
       "      <td>SI</td>\n",
       "      <td>SI</td>\n",
       "      <td>SI</td>\n",
       "    </tr>\n",
       "    <tr>\n",
       "      <th>4</th>\n",
       "      <td>DLBAJ107</td>\n",
       "      <td>RANCHO EL TECOLOTE</td>\n",
       "      <td>PENINSULA DE BAJA CALIFORNIA</td>\n",
       "      <td>BAJA CALIFORNIA SUR</td>\n",
       "      <td>LA PAZ</td>\n",
       "      <td>TODOS SANTOS</td>\n",
       "      <td>POZO</td>\n",
       "      <td>-110.24480</td>\n",
       "      <td>23.45138</td>\n",
       "      <td>2020</td>\n",
       "      <td>...</td>\n",
       "      <td>SI</td>\n",
       "      <td>SI</td>\n",
       "      <td>NO</td>\n",
       "      <td>SI</td>\n",
       "      <td>SI</td>\n",
       "      <td>SI</td>\n",
       "      <td>SI</td>\n",
       "      <td>SI</td>\n",
       "      <td>SI</td>\n",
       "      <td>SI</td>\n",
       "    </tr>\n",
       "  </tbody>\n",
       "</table>\n",
       "<p>5 rows × 57 columns</p>\n",
       "</div>"
      ],
      "text/plain": [
       "       CLAVE                   SITIO           ORGANISMO_DE_CUENCA  \\\n",
       "0     DLAGU6            POZO SAN GIL       LERMA SANTIAGO PACIFICO   \n",
       "1  DLAGU6516  POZO R013 CAÑADA HONDA       LERMA SANTIAGO PACIFICO   \n",
       "2     DLAGU7              POZO COSIO       LERMA SANTIAGO PACIFICO   \n",
       "3     DLAGU9      POZO EL SALITRILLO       LERMA SANTIAGO PACIFICO   \n",
       "4   DLBAJ107      RANCHO EL TECOLOTE  PENINSULA DE BAJA CALIFORNIA   \n",
       "\n",
       "                ESTADO        MUNICIPIO                 ACUIFERO SUBTIPO  \\\n",
       "0       AGUASCALIENTES         ASIENTOS       VALLE DE CHICALOTE    POZO   \n",
       "1       AGUASCALIENTES   AGUASCALIENTES       VALLE DE CHICALOTE    POZO   \n",
       "2       AGUASCALIENTES            COSIO  VALLE DE AGUASCALIENTES    POZO   \n",
       "3       AGUASCALIENTES  RINCON DE ROMOS  VALLE DE AGUASCALIENTES    POZO   \n",
       "4  BAJA CALIFORNIA SUR           LA PAZ             TODOS SANTOS    POZO   \n",
       "\n",
       "    LONGITUD   LATITUD  PERIODO  ...  CUMPLE_CON_DUR CUMPLE_CON_CF  \\\n",
       "0 -102.02210  22.20887     2020  ...              SI            SI   \n",
       "1 -102.20075  21.99958     2020  ...              SI            SI   \n",
       "2 -102.28801  22.36685     2020  ...              SI            SI   \n",
       "3 -102.29449  22.18435     2020  ...              SI            SI   \n",
       "4 -110.24480  23.45138     2020  ...              SI            SI   \n",
       "\n",
       "   CUMPLE_CON_NO3 CUMPLE_CON_AS  CUMPLE_CON_CD CUMPLE_CON_CR CUMPLE_CON_HG  \\\n",
       "0              SI            SI             SI            SI            SI   \n",
       "1              SI            SI             SI            SI            SI   \n",
       "2              SI            NO             SI            SI            SI   \n",
       "3              SI            SI             SI            SI            SI   \n",
       "4              NO            SI             SI            SI            SI   \n",
       "\n",
       "  CUMPLE_CON_PB CUMPLE_CON_MN CUMPLE_CON_FE  \n",
       "0            SI            SI            SI  \n",
       "1            SI            SI            SI  \n",
       "2            SI            SI            SI  \n",
       "3            SI            SI            SI  \n",
       "4            SI            SI            SI  \n",
       "\n",
       "[5 rows x 57 columns]"
      ]
     },
     "execution_count": 2,
     "metadata": {},
     "output_type": "execute_result"
    }
   ],
   "source": [
    "url1 = 'Datos_de_calidad_del_agua_de_sitios_de_monitoreo_de_aguas_subterraneas_2020.csv'\n",
    "datos = pd.read_csv(url1,encoding = \"ISO-8859-1\")\n",
    "datos.head()"
   ]
  },
  {
   "cell_type": "markdown",
   "metadata": {
    "id": "vzO8XU1dhadj"
   },
   "source": [
    "Se comprueba que no hay valores nulos en el dataset"
   ]
  },
  {
   "cell_type": "code",
   "execution_count": 3,
   "metadata": {
    "colab": {
     "base_uri": "https://localhost:8080/"
    },
    "id": "rzwB4PYltdCz",
    "outputId": "903f3dcf-52a6-43c3-f3a0-e496f9c64b2f"
   },
   "outputs": [
    {
     "data": {
      "text/plain": [
       "(1068, 57)"
      ]
     },
     "execution_count": 3,
     "metadata": {},
     "output_type": "execute_result"
    }
   ],
   "source": [
    "datos.shape"
   ]
  },
  {
   "cell_type": "code",
   "execution_count": 4,
   "metadata": {
    "colab": {
     "base_uri": "https://localhost:8080/"
    },
    "id": "O3F-wysmhXPY",
    "outputId": "50092b83-e640-43df-cfb7-c5ca5857539e"
   },
   "outputs": [],
   "source": [
    "#datos.isna().sum()"
   ]
  },
  {
   "cell_type": "code",
   "execution_count": 5,
   "metadata": {
    "colab": {
     "base_uri": "https://localhost:8080/"
    },
    "id": "AQW21X0CheeD",
    "outputId": "653ef92e-0114-4715-e5c6-0c66de64b2f2"
   },
   "outputs": [
    {
     "name": "stdout",
     "output_type": "stream",
     "text": [
      "<class 'pandas.core.frame.DataFrame'>\n",
      "RangeIndex: 1068 entries, 0 to 1067\n",
      "Data columns (total 57 columns):\n",
      " #   Column                Non-Null Count  Dtype  \n",
      "---  ------                --------------  -----  \n",
      " 0   CLAVE                 1068 non-null   object \n",
      " 1   SITIO                 1068 non-null   object \n",
      " 2   ORGANISMO_DE_CUENCA   1068 non-null   object \n",
      " 3   ESTADO                1068 non-null   object \n",
      " 4   MUNICIPIO             1068 non-null   object \n",
      " 5   ACUIFERO              1068 non-null   object \n",
      " 6   SUBTIPO               1068 non-null   object \n",
      " 7   LONGITUD              1068 non-null   float64\n",
      " 8   LATITUD               1068 non-null   float64\n",
      " 9   PERIODO               1068 non-null   int64  \n",
      " 10  ALC_mg/L              1064 non-null   float64\n",
      " 11  CALIDAD_ALC           1064 non-null   object \n",
      " 12  CONDUCT_mS/cm         1062 non-null   float64\n",
      " 13  CALIDAD_CONDUC        1062 non-null   object \n",
      " 14  SDT_mg/L              0 non-null      float64\n",
      " 15  SDT_M_mg/L            1066 non-null   object \n",
      " 16  CALIDAD_SDT_ra        1066 non-null   object \n",
      " 17  CALIDAD_SDT_salin     1066 non-null   object \n",
      " 18  FLUORUROS_mg/L        1068 non-null   object \n",
      " 19  CALIDAD_FLUO          1068 non-null   object \n",
      " 20  DUR_mg/L              1067 non-null   object \n",
      " 21  CALIDAD_DUR           1067 non-null   object \n",
      " 22  COLI_FEC_NMP/100_mL   1068 non-null   object \n",
      " 23  CALIDAD_COLI_FEC      1068 non-null   object \n",
      " 24  N_NO3_mg/L            1067 non-null   object \n",
      " 25  CALIDAD_N_NO3         1067 non-null   object \n",
      " 26  AS_TOT_mg/L           1068 non-null   object \n",
      " 27  CALIDAD_AS            1068 non-null   object \n",
      " 28  CD_TOT_mg/L           1068 non-null   object \n",
      " 29  CALIDAD_CD            1068 non-null   object \n",
      " 30  CR_TOT_mg/L           1068 non-null   object \n",
      " 31  CALIDAD_CR            1068 non-null   object \n",
      " 32  HG_TOT_mg/L           1068 non-null   object \n",
      " 33  CALIDAD_HG            1068 non-null   object \n",
      " 34  PB_TOT_mg/L           1068 non-null   object \n",
      " 35  CALIDAD_PB            1068 non-null   object \n",
      " 36  MN_TOT_mg/L           1068 non-null   object \n",
      " 37  CALIDAD_MN            1068 non-null   object \n",
      " 38  FE_TOT_mg/L           1068 non-null   object \n",
      " 39  CALIDAD_FE            1068 non-null   object \n",
      " 40  SEMAFORO              1068 non-null   object \n",
      " 41  CONTAMINANTES         634 non-null    object \n",
      " 42  CUMPLE_CON_ALC        1068 non-null   object \n",
      " 43  CUMPLE_CON_COND       1068 non-null   object \n",
      " 44  CUMPLE_CON_SDT_ra     1068 non-null   object \n",
      " 45  CUMPLE_CON_SDT_salin  1068 non-null   object \n",
      " 46  CUMPLE_CON_FLUO       1068 non-null   object \n",
      " 47  CUMPLE_CON_DUR        1068 non-null   object \n",
      " 48  CUMPLE_CON_CF         1068 non-null   object \n",
      " 49  CUMPLE_CON_NO3        1068 non-null   object \n",
      " 50  CUMPLE_CON_AS         1068 non-null   object \n",
      " 51  CUMPLE_CON_CD         1068 non-null   object \n",
      " 52  CUMPLE_CON_CR         1068 non-null   object \n",
      " 53  CUMPLE_CON_HG         1068 non-null   object \n",
      " 54  CUMPLE_CON_PB         1068 non-null   object \n",
      " 55  CUMPLE_CON_MN         1068 non-null   object \n",
      " 56  CUMPLE_CON_FE         1068 non-null   object \n",
      "dtypes: float64(5), int64(1), object(51)\n",
      "memory usage: 475.7+ KB\n"
     ]
    }
   ],
   "source": [
    "datos.info()"
   ]
  },
  {
   "cell_type": "code",
   "execution_count": 6,
   "metadata": {
    "colab": {
     "base_uri": "https://localhost:8080/",
     "height": 297
    },
    "id": "H7gpcvosiVWr",
    "outputId": "612168db-77b1-4e6d-fd0c-96f4acf0078a"
   },
   "outputs": [
    {
     "data": {
      "text/html": [
       "<div>\n",
       "<style scoped>\n",
       "    .dataframe tbody tr th:only-of-type {\n",
       "        vertical-align: middle;\n",
       "    }\n",
       "\n",
       "    .dataframe tbody tr th {\n",
       "        vertical-align: top;\n",
       "    }\n",
       "\n",
       "    .dataframe thead th {\n",
       "        text-align: right;\n",
       "    }\n",
       "</style>\n",
       "<table border=\"1\" class=\"dataframe\">\n",
       "  <thead>\n",
       "    <tr style=\"text-align: right;\">\n",
       "      <th></th>\n",
       "      <th>LONGITUD</th>\n",
       "      <th>LATITUD</th>\n",
       "      <th>PERIODO</th>\n",
       "      <th>ALC_mg/L</th>\n",
       "      <th>CONDUCT_mS/cm</th>\n",
       "      <th>SDT_mg/L</th>\n",
       "    </tr>\n",
       "  </thead>\n",
       "  <tbody>\n",
       "    <tr>\n",
       "      <th>count</th>\n",
       "      <td>1068.000000</td>\n",
       "      <td>1068.000000</td>\n",
       "      <td>1068.0</td>\n",
       "      <td>1064.000000</td>\n",
       "      <td>1062.000000</td>\n",
       "      <td>0.0</td>\n",
       "    </tr>\n",
       "    <tr>\n",
       "      <th>mean</th>\n",
       "      <td>-101.891007</td>\n",
       "      <td>23.163618</td>\n",
       "      <td>2020.0</td>\n",
       "      <td>235.633759</td>\n",
       "      <td>1138.953013</td>\n",
       "      <td>NaN</td>\n",
       "    </tr>\n",
       "    <tr>\n",
       "      <th>std</th>\n",
       "      <td>6.703263</td>\n",
       "      <td>3.887670</td>\n",
       "      <td>0.0</td>\n",
       "      <td>116.874291</td>\n",
       "      <td>1245.563674</td>\n",
       "      <td>NaN</td>\n",
       "    </tr>\n",
       "    <tr>\n",
       "      <th>min</th>\n",
       "      <td>-116.664250</td>\n",
       "      <td>14.561150</td>\n",
       "      <td>2020.0</td>\n",
       "      <td>26.640000</td>\n",
       "      <td>50.400000</td>\n",
       "      <td>NaN</td>\n",
       "    </tr>\n",
       "    <tr>\n",
       "      <th>25%</th>\n",
       "      <td>-105.388865</td>\n",
       "      <td>20.212055</td>\n",
       "      <td>2020.0</td>\n",
       "      <td>164.000000</td>\n",
       "      <td>501.750000</td>\n",
       "      <td>NaN</td>\n",
       "    </tr>\n",
       "    <tr>\n",
       "      <th>50%</th>\n",
       "      <td>-102.174180</td>\n",
       "      <td>22.617190</td>\n",
       "      <td>2020.0</td>\n",
       "      <td>215.527500</td>\n",
       "      <td>815.000000</td>\n",
       "      <td>NaN</td>\n",
       "    </tr>\n",
       "    <tr>\n",
       "      <th>75%</th>\n",
       "      <td>-98.974716</td>\n",
       "      <td>25.510285</td>\n",
       "      <td>2020.0</td>\n",
       "      <td>292.710000</td>\n",
       "      <td>1322.750000</td>\n",
       "      <td>NaN</td>\n",
       "    </tr>\n",
       "    <tr>\n",
       "      <th>max</th>\n",
       "      <td>-86.864120</td>\n",
       "      <td>32.677713</td>\n",
       "      <td>2020.0</td>\n",
       "      <td>1650.000000</td>\n",
       "      <td>18577.000000</td>\n",
       "      <td>NaN</td>\n",
       "    </tr>\n",
       "  </tbody>\n",
       "</table>\n",
       "</div>"
      ],
      "text/plain": [
       "          LONGITUD      LATITUD  PERIODO     ALC_mg/L  CONDUCT_mS/cm  SDT_mg/L\n",
       "count  1068.000000  1068.000000   1068.0  1064.000000    1062.000000       0.0\n",
       "mean   -101.891007    23.163618   2020.0   235.633759    1138.953013       NaN\n",
       "std       6.703263     3.887670      0.0   116.874291    1245.563674       NaN\n",
       "min    -116.664250    14.561150   2020.0    26.640000      50.400000       NaN\n",
       "25%    -105.388865    20.212055   2020.0   164.000000     501.750000       NaN\n",
       "50%    -102.174180    22.617190   2020.0   215.527500     815.000000       NaN\n",
       "75%     -98.974716    25.510285   2020.0   292.710000    1322.750000       NaN\n",
       "max     -86.864120    32.677713   2020.0  1650.000000   18577.000000       NaN"
      ]
     },
     "execution_count": 6,
     "metadata": {},
     "output_type": "execute_result"
    }
   ],
   "source": [
    "datos.describe()"
   ]
  },
  {
   "cell_type": "code",
   "execution_count": 7,
   "metadata": {
    "colab": {
     "base_uri": "https://localhost:8080/"
    },
    "id": "g9vaU0zFiXPs",
    "outputId": "9411f311-185f-45ae-f52f-ab9b61df85b8"
   },
   "outputs": [
    {
     "data": {
      "text/plain": [
       "(1068, 57)"
      ]
     },
     "execution_count": 7,
     "metadata": {},
     "output_type": "execute_result"
    }
   ],
   "source": [
    "datos.shape"
   ]
  },
  {
   "cell_type": "code",
   "execution_count": 8,
   "metadata": {
    "colab": {
     "base_uri": "https://localhost:8080/"
    },
    "id": "ge8ROFlNi7WT",
    "outputId": "828f7d0e-7a68-4d92-a563-465e3ca41ff4"
   },
   "outputs": [
    {
     "data": {
      "text/plain": [
       "['CLAVE',\n",
       " 'SITIO',\n",
       " 'ORGANISMO_DE_CUENCA',\n",
       " 'ESTADO',\n",
       " 'MUNICIPIO',\n",
       " 'ACUIFERO',\n",
       " 'SUBTIPO',\n",
       " 'LONGITUD',\n",
       " 'LATITUD',\n",
       " 'PERIODO',\n",
       " 'ALC_mg/L',\n",
       " 'CALIDAD_ALC',\n",
       " 'CONDUCT_mS/cm',\n",
       " 'CALIDAD_CONDUC',\n",
       " 'SDT_mg/L',\n",
       " 'SDT_M_mg/L',\n",
       " 'CALIDAD_SDT_ra',\n",
       " 'CALIDAD_SDT_salin',\n",
       " 'FLUORUROS_mg/L',\n",
       " 'CALIDAD_FLUO',\n",
       " 'DUR_mg/L',\n",
       " 'CALIDAD_DUR',\n",
       " 'COLI_FEC_NMP/100_mL',\n",
       " 'CALIDAD_COLI_FEC',\n",
       " 'N_NO3_mg/L',\n",
       " 'CALIDAD_N_NO3',\n",
       " 'AS_TOT_mg/L',\n",
       " 'CALIDAD_AS',\n",
       " 'CD_TOT_mg/L',\n",
       " 'CALIDAD_CD',\n",
       " 'CR_TOT_mg/L',\n",
       " 'CALIDAD_CR',\n",
       " 'HG_TOT_mg/L',\n",
       " 'CALIDAD_HG',\n",
       " 'PB_TOT_mg/L',\n",
       " 'CALIDAD_PB',\n",
       " 'MN_TOT_mg/L',\n",
       " 'CALIDAD_MN',\n",
       " 'FE_TOT_mg/L',\n",
       " 'CALIDAD_FE',\n",
       " 'SEMAFORO',\n",
       " 'CONTAMINANTES',\n",
       " 'CUMPLE_CON_ALC',\n",
       " 'CUMPLE_CON_COND',\n",
       " 'CUMPLE_CON_SDT_ra',\n",
       " 'CUMPLE_CON_SDT_salin',\n",
       " 'CUMPLE_CON_FLUO',\n",
       " 'CUMPLE_CON_DUR',\n",
       " 'CUMPLE_CON_CF',\n",
       " 'CUMPLE_CON_NO3',\n",
       " 'CUMPLE_CON_AS',\n",
       " 'CUMPLE_CON_CD',\n",
       " 'CUMPLE_CON_CR',\n",
       " 'CUMPLE_CON_HG',\n",
       " 'CUMPLE_CON_PB',\n",
       " 'CUMPLE_CON_MN',\n",
       " 'CUMPLE_CON_FE']"
      ]
     },
     "execution_count": 8,
     "metadata": {},
     "output_type": "execute_result"
    }
   ],
   "source": [
    "#Obtenemos los nombres de las columnas \n",
    "\n",
    "list(datos.columns)"
   ]
  },
  {
   "cell_type": "code",
   "execution_count": 9,
   "metadata": {
    "colab": {
     "base_uri": "https://localhost:8080/"
    },
    "id": "R9WXF8bdhqBt",
    "outputId": "715c3097-4bb2-400a-f79c-248476c4c63f"
   },
   "outputs": [
    {
     "data": {
      "text/plain": [
       "EL FUERTE                           2\n",
       "POZO VILLA UNION                    2\n",
       "POZO BERRIOZABAL                    1\n",
       "RANCHO GIUSEPPE CONSTANZO           1\n",
       "QUINTA 2 POTRILLOS                  1\n",
       "                                   ..\n",
       "POZO SAN FRANCISCO BOJAY COLONIA    1\n",
       "POZO SANTA ANA AHUEHUEPAN           1\n",
       "POZO SANTA MARIA DAXTHO             1\n",
       "POZO PEDRO MARIA ANAYA              1\n",
       "COMUNIDAD LA REFORMA                1\n",
       "Name: SITIO, Length: 1066, dtype: int64"
      ]
     },
     "execution_count": 9,
     "metadata": {},
     "output_type": "execute_result"
    }
   ],
   "source": [
    "datos[\"SITIO\"].value_counts()\n",
    "#datos[\"SDT_mg/L\"].value_counts()\n"
   ]
  },
  {
   "cell_type": "code",
   "execution_count": 10,
   "metadata": {},
   "outputs": [
    {
     "data": {
      "text/plain": [
       "Series([], Name: SDT_mg/L, dtype: int64)"
      ]
     },
     "execution_count": 10,
     "metadata": {},
     "output_type": "execute_result"
    }
   ],
   "source": [
    "#Validar la columna SDT_mg/L\n",
    "datos[\"SDT_mg/L\"].value_counts()"
   ]
  },
  {
   "cell_type": "code",
   "execution_count": 11,
   "metadata": {},
   "outputs": [],
   "source": [
    "datos.drop(columns=['SDT_mg/L'], inplace=True)"
   ]
  },
  {
   "cell_type": "code",
   "execution_count": 14,
   "metadata": {},
   "outputs": [
    {
     "data": {
      "text/plain": [
       "True"
      ]
     },
     "execution_count": 14,
     "metadata": {},
     "output_type": "execute_result"
    }
   ],
   "source": [
    "#datos.isna().sum()\n",
    "datos.isnull().values.any()"
   ]
  },
  {
   "cell_type": "code",
   "execution_count": 15,
   "metadata": {
    "id": "7lcopT2ujISW"
   },
   "outputs": [],
   "source": [
    "# imputacion por moda - Categóricos\n",
    "datos_cat = ['CALIDAD_ALC', 'CALIDAD_CONDUC','CALIDAD_SDT_ra','CALIDAD_SDT_salin','CALIDAD_FLUO','CALIDAD_DUR','CALIDAD_COLI_FEC','CALIDAD_N_NO3','CALIDAD_AS',\n",
    "              'CALIDAD_CD','CALIDAD_CR', 'CALIDAD_HG','CALIDAD_PB', 'CALIDAD_MN', 'CALIDAD_FE', 'SEMAFORO', 'CONTAMINANTES'   ]\n",
    "\n",
    "# imputacion por moda - Continuos\n",
    "datos_cnt = ['LONGITUD', 'LATITUD' ,'ALC_mg/L', 'SDT_M_mg/L' ,'CONDUCT_mS/cm' ,'FLUORUROS_mg/L', 'DUR_mg/L', 'COLI_FEC_NMP/100_mL', 'N_NO3_mg/L', 'AS_TOT_mg/L']\n",
    "\n",
    "# imputacion por moda - Binarios\n",
    "datos_bin = ['CUMPLE_CON_ALC', 'CUMPLE_CON_COND', 'CUMPLE_CON_SDT_ra', 'CUMPLE_CON_SDT_salin', 'CUMPLE_CON_FLUO', 'CUMPLE_CON_DUR', 'CUMPLE_CON_CF','CUMPLE_CON_NO3', 'CUMPLE_CON_AS', 'CUMPLE_CON_CD', 'CUMPLE_CON_CR',\n",
    "             'CUMPLE_CON_HG', 'CUMPLE_CON_PB', 'CUMPLE_CON_MN' , 'CUMPLE_CON_FE' ]"
   ]
  },
  {
   "cell_type": "code",
   "execution_count": 16,
   "metadata": {},
   "outputs": [],
   "source": [
    "cat_pipeline = Pipeline(steps = [('impModa', SimpleImputer(strategy='most_frequent'))])\n",
    "cat_pipeline_names = datos_cat\n",
    "\n",
    "cnt_pipeline = Pipeline(steps = [('impModa', SimpleImputer(strategy='most_frequent'))])\n",
    "cnt_pipeline_names = datos_cnt\n",
    "\n",
    "bin_pipeline = Pipeline(steps = [('impModa', SimpleImputer(strategy='most_frequent'))])\n",
    "bin_pipeline_names = datos_bin\n"
   ]
  },
  {
   "cell_type": "code",
   "execution_count": 17,
   "metadata": {},
   "outputs": [],
   "source": [
    "columnTransfomer = ColumnTransformer(transformers = [('catpimp', cat_pipeline, cat_pipeline_names),\n",
    "                                                       ('cntimp', cnt_pipeline, cnt_pipeline_names),\n",
    "                                                       ('binimp', bin_pipeline, bin_pipeline_names)\n",
    "                                                       ],\n",
    "                                       remainder='passthrough')"
   ]
  },
  {
   "cell_type": "code",
   "execution_count": 18,
   "metadata": {},
   "outputs": [
    {
     "data": {
      "text/html": [
       "<div>\n",
       "<style scoped>\n",
       "    .dataframe tbody tr th:only-of-type {\n",
       "        vertical-align: middle;\n",
       "    }\n",
       "\n",
       "    .dataframe tbody tr th {\n",
       "        vertical-align: top;\n",
       "    }\n",
       "\n",
       "    .dataframe thead th {\n",
       "        text-align: right;\n",
       "    }\n",
       "</style>\n",
       "<table border=\"1\" class=\"dataframe\">\n",
       "  <thead>\n",
       "    <tr style=\"text-align: right;\">\n",
       "      <th></th>\n",
       "      <th>catpimp__CALIDAD_ALC</th>\n",
       "      <th>catpimp__CALIDAD_CONDUC</th>\n",
       "      <th>catpimp__CALIDAD_SDT_ra</th>\n",
       "      <th>catpimp__CALIDAD_SDT_salin</th>\n",
       "      <th>catpimp__CALIDAD_FLUO</th>\n",
       "      <th>catpimp__CALIDAD_DUR</th>\n",
       "      <th>catpimp__CALIDAD_COLI_FEC</th>\n",
       "      <th>catpimp__CALIDAD_N_NO3</th>\n",
       "      <th>catpimp__CALIDAD_AS</th>\n",
       "      <th>catpimp__CALIDAD_CD</th>\n",
       "      <th>...</th>\n",
       "      <th>remainder__MUNICIPIO</th>\n",
       "      <th>remainder__ACUIFERO</th>\n",
       "      <th>remainder__SUBTIPO</th>\n",
       "      <th>remainder__PERIODO</th>\n",
       "      <th>remainder__CD_TOT_mg/L</th>\n",
       "      <th>remainder__CR_TOT_mg/L</th>\n",
       "      <th>remainder__HG_TOT_mg/L</th>\n",
       "      <th>remainder__PB_TOT_mg/L</th>\n",
       "      <th>remainder__MN_TOT_mg/L</th>\n",
       "      <th>remainder__FE_TOT_mg/L</th>\n",
       "    </tr>\n",
       "  </thead>\n",
       "  <tbody>\n",
       "    <tr>\n",
       "      <th>0</th>\n",
       "      <td>Alta</td>\n",
       "      <td>Permisible para riego</td>\n",
       "      <td>Cultivos sensibles</td>\n",
       "      <td>Potable - Dulce</td>\n",
       "      <td>Potable - Optima</td>\n",
       "      <td>Potable - Dura</td>\n",
       "      <td>Potable - Excelente</td>\n",
       "      <td>Potable - Excelente</td>\n",
       "      <td>Apta como FAAP</td>\n",
       "      <td>Potable - Excelente</td>\n",
       "      <td>...</td>\n",
       "      <td>ASIENTOS</td>\n",
       "      <td>VALLE DE CHICALOTE</td>\n",
       "      <td>POZO</td>\n",
       "      <td>2020</td>\n",
       "      <td>&lt;0.003</td>\n",
       "      <td>&lt;0.005</td>\n",
       "      <td>&lt;0.0005</td>\n",
       "      <td>&lt;0.005</td>\n",
       "      <td>&lt;0.0015</td>\n",
       "      <td>0.0891</td>\n",
       "    </tr>\n",
       "    <tr>\n",
       "      <th>1</th>\n",
       "      <td>Alta</td>\n",
       "      <td>Buena para riego</td>\n",
       "      <td>Excelente para riego</td>\n",
       "      <td>Potable - Dulce</td>\n",
       "      <td>Potable - Optima</td>\n",
       "      <td>Potable - Dura</td>\n",
       "      <td>Potable - Excelente</td>\n",
       "      <td>Potable - Buena calidad</td>\n",
       "      <td>Apta como FAAP</td>\n",
       "      <td>Potable - Excelente</td>\n",
       "      <td>...</td>\n",
       "      <td>AGUASCALIENTES</td>\n",
       "      <td>VALLE DE CHICALOTE</td>\n",
       "      <td>POZO</td>\n",
       "      <td>2020</td>\n",
       "      <td>&lt;0.003</td>\n",
       "      <td>&lt;0.005</td>\n",
       "      <td>&lt;0.0005</td>\n",
       "      <td>&lt;0.005</td>\n",
       "      <td>&lt;0.0015</td>\n",
       "      <td>&lt;0.025</td>\n",
       "    </tr>\n",
       "    <tr>\n",
       "      <th>2</th>\n",
       "      <td>Alta</td>\n",
       "      <td>Buena para riego</td>\n",
       "      <td>Excelente para riego</td>\n",
       "      <td>Potable - Dulce</td>\n",
       "      <td>Alta</td>\n",
       "      <td>Potable - Dura</td>\n",
       "      <td>Potable - Excelente</td>\n",
       "      <td>Potable - Excelente</td>\n",
       "      <td>No apta como FAAP</td>\n",
       "      <td>Potable - Excelente</td>\n",
       "      <td>...</td>\n",
       "      <td>COSIO</td>\n",
       "      <td>VALLE DE AGUASCALIENTES</td>\n",
       "      <td>POZO</td>\n",
       "      <td>2020</td>\n",
       "      <td>&lt;0.003</td>\n",
       "      <td>&lt;0.005</td>\n",
       "      <td>&lt;0.0005</td>\n",
       "      <td>&lt;0.005</td>\n",
       "      <td>&lt;0.0015</td>\n",
       "      <td>&lt;0.025</td>\n",
       "    </tr>\n",
       "    <tr>\n",
       "      <th>3</th>\n",
       "      <td>Alta</td>\n",
       "      <td>Buena para riego</td>\n",
       "      <td>Excelente para riego</td>\n",
       "      <td>Potable - Dulce</td>\n",
       "      <td>Potable - Optima</td>\n",
       "      <td>Potable - Dura</td>\n",
       "      <td>Potable - Excelente</td>\n",
       "      <td>Potable - Excelente</td>\n",
       "      <td>Apta como FAAP</td>\n",
       "      <td>Potable - Excelente</td>\n",
       "      <td>...</td>\n",
       "      <td>RINCON DE ROMOS</td>\n",
       "      <td>VALLE DE AGUASCALIENTES</td>\n",
       "      <td>POZO</td>\n",
       "      <td>2020</td>\n",
       "      <td>&lt;0.003</td>\n",
       "      <td>0.005</td>\n",
       "      <td>&lt;0.0005</td>\n",
       "      <td>&lt;0.005</td>\n",
       "      <td>&lt;0.0015</td>\n",
       "      <td>&lt;0.025</td>\n",
       "    </tr>\n",
       "    <tr>\n",
       "      <th>4</th>\n",
       "      <td>Alta</td>\n",
       "      <td>Permisible para riego</td>\n",
       "      <td>Cultivos con manejo especial</td>\n",
       "      <td>Ligeramente salobres</td>\n",
       "      <td>Baja</td>\n",
       "      <td>Potable - Dura</td>\n",
       "      <td>Aceptable</td>\n",
       "      <td>No apta como FAAP</td>\n",
       "      <td>Potable - Excelente</td>\n",
       "      <td>Potable - Excelente</td>\n",
       "      <td>...</td>\n",
       "      <td>LA PAZ</td>\n",
       "      <td>TODOS SANTOS</td>\n",
       "      <td>POZO</td>\n",
       "      <td>2020</td>\n",
       "      <td>&lt;0.003</td>\n",
       "      <td>&lt;0.005</td>\n",
       "      <td>&lt;0.0005</td>\n",
       "      <td>&lt;0.005</td>\n",
       "      <td>&lt;0.0015</td>\n",
       "      <td>&lt;0.025</td>\n",
       "    </tr>\n",
       "    <tr>\n",
       "      <th>...</th>\n",
       "      <td>...</td>\n",
       "      <td>...</td>\n",
       "      <td>...</td>\n",
       "      <td>...</td>\n",
       "      <td>...</td>\n",
       "      <td>...</td>\n",
       "      <td>...</td>\n",
       "      <td>...</td>\n",
       "      <td>...</td>\n",
       "      <td>...</td>\n",
       "      <td>...</td>\n",
       "      <td>...</td>\n",
       "      <td>...</td>\n",
       "      <td>...</td>\n",
       "      <td>...</td>\n",
       "      <td>...</td>\n",
       "      <td>...</td>\n",
       "      <td>...</td>\n",
       "      <td>...</td>\n",
       "      <td>...</td>\n",
       "      <td>...</td>\n",
       "    </tr>\n",
       "    <tr>\n",
       "      <th>1063</th>\n",
       "      <td>Alta</td>\n",
       "      <td>Dudosa para riego</td>\n",
       "      <td>Cultivos con manejo especial</td>\n",
       "      <td>Ligeramente salobres</td>\n",
       "      <td>Baja</td>\n",
       "      <td>Muy dura e indeseable usos industrial y domestico</td>\n",
       "      <td>Potable - Excelente</td>\n",
       "      <td>No apta como FAAP</td>\n",
       "      <td>Potable - Excelente</td>\n",
       "      <td>Potable - Excelente</td>\n",
       "      <td>...</td>\n",
       "      <td>LINARES</td>\n",
       "      <td>CITRICOLA SUR</td>\n",
       "      <td>POZO</td>\n",
       "      <td>2020</td>\n",
       "      <td>&lt;0.003</td>\n",
       "      <td>&lt;0.005</td>\n",
       "      <td>&lt;0.0005</td>\n",
       "      <td>&lt;0.005</td>\n",
       "      <td>&lt;0.0015</td>\n",
       "      <td>&lt;0.025</td>\n",
       "    </tr>\n",
       "    <tr>\n",
       "      <th>1064</th>\n",
       "      <td>Alta</td>\n",
       "      <td>Buena para riego</td>\n",
       "      <td>Excelente para riego</td>\n",
       "      <td>Potable - Dulce</td>\n",
       "      <td>Baja</td>\n",
       "      <td>Potable - Dura</td>\n",
       "      <td>Potable - Excelente</td>\n",
       "      <td>No apta como FAAP</td>\n",
       "      <td>Potable - Excelente</td>\n",
       "      <td>Potable - Excelente</td>\n",
       "      <td>...</td>\n",
       "      <td>LINARES</td>\n",
       "      <td>CITRICOLA SUR</td>\n",
       "      <td>POZO</td>\n",
       "      <td>2020</td>\n",
       "      <td>&lt;0.003</td>\n",
       "      <td>&lt;0.005</td>\n",
       "      <td>&lt;0.0005</td>\n",
       "      <td>&lt;0.005</td>\n",
       "      <td>0.00709</td>\n",
       "      <td>0.07578</td>\n",
       "    </tr>\n",
       "    <tr>\n",
       "      <th>1065</th>\n",
       "      <td>Alta</td>\n",
       "      <td>Dudosa para riego</td>\n",
       "      <td>Cultivos con manejo especial</td>\n",
       "      <td>Ligeramente salobres</td>\n",
       "      <td>Potable - Optima</td>\n",
       "      <td>Muy dura e indeseable usos industrial y domestico</td>\n",
       "      <td>Aceptable</td>\n",
       "      <td>No apta como FAAP</td>\n",
       "      <td>Potable - Excelente</td>\n",
       "      <td>Potable - Excelente</td>\n",
       "      <td>...</td>\n",
       "      <td>CADEREYTA JIMENEZ</td>\n",
       "      <td>CITRICOLA NORTE</td>\n",
       "      <td>POZO</td>\n",
       "      <td>2020</td>\n",
       "      <td>&lt;0.003</td>\n",
       "      <td>&lt;0.005</td>\n",
       "      <td>&lt;0.0005</td>\n",
       "      <td>&lt;0.005</td>\n",
       "      <td>0.0242</td>\n",
       "      <td>0.2129</td>\n",
       "    </tr>\n",
       "    <tr>\n",
       "      <th>1066</th>\n",
       "      <td>Alta</td>\n",
       "      <td>Permisible para riego</td>\n",
       "      <td>Cultivos sensibles</td>\n",
       "      <td>Potable - Dulce</td>\n",
       "      <td>Potable - Optima</td>\n",
       "      <td>Potable - Dura</td>\n",
       "      <td>Potable - Excelente</td>\n",
       "      <td>Potable - Excelente</td>\n",
       "      <td>Potable - Excelente</td>\n",
       "      <td>Potable - Excelente</td>\n",
       "      <td>...</td>\n",
       "      <td>GALEANA</td>\n",
       "      <td>NAVIDAD-POTOSI-RAICES</td>\n",
       "      <td>POZO</td>\n",
       "      <td>2020</td>\n",
       "      <td>&lt;0.003</td>\n",
       "      <td>&lt;0.005</td>\n",
       "      <td>&lt;0.0005</td>\n",
       "      <td>&lt;0.005</td>\n",
       "      <td>0.012</td>\n",
       "      <td>0.1786</td>\n",
       "    </tr>\n",
       "    <tr>\n",
       "      <th>1067</th>\n",
       "      <td>Alta</td>\n",
       "      <td>Permisible para riego</td>\n",
       "      <td>Excelente para riego</td>\n",
       "      <td>Potable - Dulce</td>\n",
       "      <td>Media</td>\n",
       "      <td>Potable - Dura</td>\n",
       "      <td>Potable - Excelente</td>\n",
       "      <td>Potable - Excelente</td>\n",
       "      <td>Potable - Excelente</td>\n",
       "      <td>Potable - Excelente</td>\n",
       "      <td>...</td>\n",
       "      <td>GALEANA</td>\n",
       "      <td>NAVIDAD-POTOSI-RAICES</td>\n",
       "      <td>POZO</td>\n",
       "      <td>2020</td>\n",
       "      <td>&lt;0.003</td>\n",
       "      <td>&lt;0.005</td>\n",
       "      <td>&lt;0.0005</td>\n",
       "      <td>&lt;0.005</td>\n",
       "      <td>&lt;0.0015</td>\n",
       "      <td>&lt;0.025</td>\n",
       "    </tr>\n",
       "  </tbody>\n",
       "</table>\n",
       "<p>1068 rows × 56 columns</p>\n",
       "</div>"
      ],
      "text/plain": [
       "     catpimp__CALIDAD_ALC catpimp__CALIDAD_CONDUC  \\\n",
       "0                    Alta   Permisible para riego   \n",
       "1                    Alta        Buena para riego   \n",
       "2                    Alta        Buena para riego   \n",
       "3                    Alta        Buena para riego   \n",
       "4                    Alta   Permisible para riego   \n",
       "...                   ...                     ...   \n",
       "1063                 Alta       Dudosa para riego   \n",
       "1064                 Alta        Buena para riego   \n",
       "1065                 Alta       Dudosa para riego   \n",
       "1066                 Alta   Permisible para riego   \n",
       "1067                 Alta   Permisible para riego   \n",
       "\n",
       "           catpimp__CALIDAD_SDT_ra catpimp__CALIDAD_SDT_salin  \\\n",
       "0               Cultivos sensibles            Potable - Dulce   \n",
       "1             Excelente para riego            Potable - Dulce   \n",
       "2             Excelente para riego            Potable - Dulce   \n",
       "3             Excelente para riego            Potable - Dulce   \n",
       "4     Cultivos con manejo especial       Ligeramente salobres   \n",
       "...                            ...                        ...   \n",
       "1063  Cultivos con manejo especial       Ligeramente salobres   \n",
       "1064          Excelente para riego            Potable - Dulce   \n",
       "1065  Cultivos con manejo especial       Ligeramente salobres   \n",
       "1066            Cultivos sensibles            Potable - Dulce   \n",
       "1067          Excelente para riego            Potable - Dulce   \n",
       "\n",
       "     catpimp__CALIDAD_FLUO                               catpimp__CALIDAD_DUR  \\\n",
       "0         Potable - Optima                                     Potable - Dura   \n",
       "1         Potable - Optima                                     Potable - Dura   \n",
       "2                     Alta                                     Potable - Dura   \n",
       "3         Potable - Optima                                     Potable - Dura   \n",
       "4                     Baja                                     Potable - Dura   \n",
       "...                    ...                                                ...   \n",
       "1063                  Baja  Muy dura e indeseable usos industrial y domestico   \n",
       "1064                  Baja                                     Potable - Dura   \n",
       "1065      Potable - Optima  Muy dura e indeseable usos industrial y domestico   \n",
       "1066      Potable - Optima                                     Potable - Dura   \n",
       "1067                 Media                                     Potable - Dura   \n",
       "\n",
       "     catpimp__CALIDAD_COLI_FEC   catpimp__CALIDAD_N_NO3  catpimp__CALIDAD_AS  \\\n",
       "0          Potable - Excelente      Potable - Excelente       Apta como FAAP   \n",
       "1          Potable - Excelente  Potable - Buena calidad       Apta como FAAP   \n",
       "2          Potable - Excelente      Potable - Excelente    No apta como FAAP   \n",
       "3          Potable - Excelente      Potable - Excelente       Apta como FAAP   \n",
       "4                    Aceptable        No apta como FAAP  Potable - Excelente   \n",
       "...                        ...                      ...                  ...   \n",
       "1063       Potable - Excelente        No apta como FAAP  Potable - Excelente   \n",
       "1064       Potable - Excelente        No apta como FAAP  Potable - Excelente   \n",
       "1065                 Aceptable        No apta como FAAP  Potable - Excelente   \n",
       "1066       Potable - Excelente      Potable - Excelente  Potable - Excelente   \n",
       "1067       Potable - Excelente      Potable - Excelente  Potable - Excelente   \n",
       "\n",
       "      catpimp__CALIDAD_CD  ... remainder__MUNICIPIO      remainder__ACUIFERO  \\\n",
       "0     Potable - Excelente  ...             ASIENTOS       VALLE DE CHICALOTE   \n",
       "1     Potable - Excelente  ...       AGUASCALIENTES       VALLE DE CHICALOTE   \n",
       "2     Potable - Excelente  ...                COSIO  VALLE DE AGUASCALIENTES   \n",
       "3     Potable - Excelente  ...      RINCON DE ROMOS  VALLE DE AGUASCALIENTES   \n",
       "4     Potable - Excelente  ...               LA PAZ             TODOS SANTOS   \n",
       "...                   ...  ...                  ...                      ...   \n",
       "1063  Potable - Excelente  ...              LINARES            CITRICOLA SUR   \n",
       "1064  Potable - Excelente  ...              LINARES            CITRICOLA SUR   \n",
       "1065  Potable - Excelente  ...    CADEREYTA JIMENEZ          CITRICOLA NORTE   \n",
       "1066  Potable - Excelente  ...              GALEANA    NAVIDAD-POTOSI-RAICES   \n",
       "1067  Potable - Excelente  ...              GALEANA    NAVIDAD-POTOSI-RAICES   \n",
       "\n",
       "     remainder__SUBTIPO remainder__PERIODO remainder__CD_TOT_mg/L  \\\n",
       "0                  POZO               2020                 <0.003   \n",
       "1                  POZO               2020                 <0.003   \n",
       "2                  POZO               2020                 <0.003   \n",
       "3                  POZO               2020                 <0.003   \n",
       "4                  POZO               2020                 <0.003   \n",
       "...                 ...                ...                    ...   \n",
       "1063               POZO               2020                 <0.003   \n",
       "1064               POZO               2020                 <0.003   \n",
       "1065               POZO               2020                 <0.003   \n",
       "1066               POZO               2020                 <0.003   \n",
       "1067               POZO               2020                 <0.003   \n",
       "\n",
       "     remainder__CR_TOT_mg/L remainder__HG_TOT_mg/L remainder__PB_TOT_mg/L  \\\n",
       "0                    <0.005                <0.0005                 <0.005   \n",
       "1                    <0.005                <0.0005                 <0.005   \n",
       "2                    <0.005                <0.0005                 <0.005   \n",
       "3                     0.005                <0.0005                 <0.005   \n",
       "4                    <0.005                <0.0005                 <0.005   \n",
       "...                     ...                    ...                    ...   \n",
       "1063                 <0.005                <0.0005                 <0.005   \n",
       "1064                 <0.005                <0.0005                 <0.005   \n",
       "1065                 <0.005                <0.0005                 <0.005   \n",
       "1066                 <0.005                <0.0005                 <0.005   \n",
       "1067                 <0.005                <0.0005                 <0.005   \n",
       "\n",
       "     remainder__MN_TOT_mg/L remainder__FE_TOT_mg/L  \n",
       "0                   <0.0015                 0.0891  \n",
       "1                   <0.0015                 <0.025  \n",
       "2                   <0.0015                 <0.025  \n",
       "3                   <0.0015                 <0.025  \n",
       "4                   <0.0015                 <0.025  \n",
       "...                     ...                    ...  \n",
       "1063                <0.0015                 <0.025  \n",
       "1064                0.00709                0.07578  \n",
       "1065                 0.0242                 0.2129  \n",
       "1066                  0.012                 0.1786  \n",
       "1067                <0.0015                 <0.025  \n",
       "\n",
       "[1068 rows x 56 columns]"
      ]
     },
     "execution_count": 18,
     "metadata": {},
     "output_type": "execute_result"
    }
   ],
   "source": [
    "ndf = columnTransfomer.fit_transform(datos)\n",
    "df = pd.DataFrame(ndf, columns=columnTransfomer.get_feature_names_out())\n",
    "df"
   ]
  },
  {
   "cell_type": "code",
   "execution_count": 19,
   "metadata": {},
   "outputs": [
    {
     "data": {
      "text/plain": [
       "False"
      ]
     },
     "execution_count": 19,
     "metadata": {},
     "output_type": "execute_result"
    }
   ],
   "source": [
    "df.isnull().values.any()"
   ]
  },
  {
   "cell_type": "code",
   "execution_count": 20,
   "metadata": {},
   "outputs": [
    {
     "data": {
      "text/plain": [
       "<seaborn.axisgrid.PairGrid at 0x297d417ba30>"
      ]
     },
     "execution_count": 20,
     "metadata": {},
     "output_type": "execute_result"
    },
    {
     "data": {
      "image/png": "[encoded data removed]",
      "text/plain": [
       "<Figure size 900x900 with 30 Axes>"
      ]
     },
     "metadata": {
      "needs_background": "light"
     },
     "output_type": "display_data"
    }
   ],
   "source": [
    "#Visualizamos la dispersión de los datos mediante una gráfica de pairplot\n",
    "sns.pairplot(datos)"
   ]
  },
  {
   "cell_type": "code",
   "execution_count": 21,
   "metadata": {},
   "outputs": [
    {
     "data": {
      "text/plain": [
       "<AxesSubplot:>"
      ]
     },
     "execution_count": 21,
     "metadata": {},
     "output_type": "execute_result"
    },
    {
     "data": {
      "image/png": "[encoded data removed]",
      "text/plain": [
       "<Figure size 432x288 with 1 Axes>"
      ]
     },
     "metadata": {
      "needs_background": "light"
     },
     "output_type": "display_data"
    }
   ],
   "source": [
    "datos.boxplot(column=['LONGITUD'])  "
   ]
  },
  {
   "cell_type": "code",
   "execution_count": 22,
   "metadata": {},
   "outputs": [
    {
     "data": {
      "text/plain": [
       "<AxesSubplot:>"
      ]
     },
     "execution_count": 22,
     "metadata": {},
     "output_type": "execute_result"
    },
    {
     "data": {
      "image/png": "[encoded data removed]",
      "text/plain": [
       "<Figure size 432x288 with 1 Axes>"
      ]
     },
     "metadata": {
      "needs_background": "light"
     },
     "output_type": "display_data"
    }
   ],
   "source": [
    "datos.boxplot(column=['LATITUD'])"
   ]
  },
  {
   "cell_type": "code",
   "execution_count": 23,
   "metadata": {},
   "outputs": [
    {
     "data": {
      "text/plain": [
       "<AxesSubplot:>"
      ]
     },
     "execution_count": 23,
     "metadata": {},
     "output_type": "execute_result"
    },
    {
     "data": {
      "image/png": "[encoded data removed]",
      "text/plain": [
       "<Figure size 432x288 with 1 Axes>"
      ]
     },
     "metadata": {
      "needs_background": "light"
     },
     "output_type": "display_data"
    }
   ],
   "source": [
    "datos.boxplot(column=['PERIODO'])"
   ]
  },
  {
   "cell_type": "code",
   "execution_count": 24,
   "metadata": {},
   "outputs": [
    {
     "data": {
      "text/plain": [
       "<AxesSubplot:>"
      ]
     },
     "execution_count": 24,
     "metadata": {},
     "output_type": "execute_result"
    },
    {
     "data": {
      "image/png": "[encoded data removed]",
      "text/plain": [
       "<Figure size 432x288 with 1 Axes>"
      ]
     },
     "metadata": {
      "needs_background": "light"
     },
     "output_type": "display_data"
    }
   ],
   "source": [
    "datos.boxplot(column=['ALC_mg/L'])"
   ]
  },
  {
   "cell_type": "code",
   "execution_count": 25,
   "metadata": {},
   "outputs": [
    {
     "data": {
      "text/plain": [
       "<AxesSubplot:>"
      ]
     },
     "execution_count": 25,
     "metadata": {},
     "output_type": "execute_result"
    },
    {
     "data": {
      "image/png": "[encoded data removed]",
      "text/plain": [
       "<Figure size 432x288 with 1 Axes>"
      ]
     },
     "metadata": {
      "needs_background": "light"
     },
     "output_type": "display_data"
    }
   ],
   "source": [
    "datos.boxplot(column=['CONDUCT_mS/cm'])"
   ]
  },
  {
   "cell_type": "code",
   "execution_count": 26,
   "metadata": {},
   "outputs": [
    {
     "data": {
      "text/html": [
       "<div>\n",
       "<style scoped>\n",
       "    .dataframe tbody tr th:only-of-type {\n",
       "        vertical-align: middle;\n",
       "    }\n",
       "\n",
       "    .dataframe tbody tr th {\n",
       "        vertical-align: top;\n",
       "    }\n",
       "\n",
       "    .dataframe thead th {\n",
       "        text-align: right;\n",
       "    }\n",
       "</style>\n",
       "<table border=\"1\" class=\"dataframe\">\n",
       "  <thead>\n",
       "    <tr style=\"text-align: right;\">\n",
       "      <th></th>\n",
       "      <th>LONGITUD</th>\n",
       "      <th>LATITUD</th>\n",
       "      <th>PERIODO</th>\n",
       "      <th>ALC_mg/L</th>\n",
       "      <th>CONDUCT_mS/cm</th>\n",
       "    </tr>\n",
       "  </thead>\n",
       "  <tbody>\n",
       "    <tr>\n",
       "      <th>LONGITUD</th>\n",
       "      <td>1.000000</td>\n",
       "      <td>-0.760204</td>\n",
       "      <td>NaN</td>\n",
       "      <td>0.167234</td>\n",
       "      <td>0.061118</td>\n",
       "    </tr>\n",
       "    <tr>\n",
       "      <th>LATITUD</th>\n",
       "      <td>-0.760204</td>\n",
       "      <td>1.000000</td>\n",
       "      <td>NaN</td>\n",
       "      <td>-0.080026</td>\n",
       "      <td>0.053786</td>\n",
       "    </tr>\n",
       "    <tr>\n",
       "      <th>PERIODO</th>\n",
       "      <td>NaN</td>\n",
       "      <td>NaN</td>\n",
       "      <td>NaN</td>\n",
       "      <td>NaN</td>\n",
       "      <td>NaN</td>\n",
       "    </tr>\n",
       "    <tr>\n",
       "      <th>ALC_mg/L</th>\n",
       "      <td>0.167234</td>\n",
       "      <td>-0.080026</td>\n",
       "      <td>NaN</td>\n",
       "      <td>1.000000</td>\n",
       "      <td>0.232003</td>\n",
       "    </tr>\n",
       "    <tr>\n",
       "      <th>CONDUCT_mS/cm</th>\n",
       "      <td>0.061118</td>\n",
       "      <td>0.053786</td>\n",
       "      <td>NaN</td>\n",
       "      <td>0.232003</td>\n",
       "      <td>1.000000</td>\n",
       "    </tr>\n",
       "  </tbody>\n",
       "</table>\n",
       "</div>"
      ],
      "text/plain": [
       "               LONGITUD   LATITUD  PERIODO  ALC_mg/L  CONDUCT_mS/cm\n",
       "LONGITUD       1.000000 -0.760204      NaN  0.167234       0.061118\n",
       "LATITUD       -0.760204  1.000000      NaN -0.080026       0.053786\n",
       "PERIODO             NaN       NaN      NaN       NaN            NaN\n",
       "ALC_mg/L       0.167234 -0.080026      NaN  1.000000       0.232003\n",
       "CONDUCT_mS/cm  0.061118  0.053786      NaN  0.232003       1.000000"
      ]
     },
     "execution_count": 26,
     "metadata": {},
     "output_type": "execute_result"
    }
   ],
   "source": [
    "datos.corr()"
   ]
  }
 ],
 "metadata": {
  "colab": {
   "authorship_tag": "ABX9TyPu/6olwFDlFA/HACMU4fsw",
   "include_colab_link": true,
   "provenance": []
  },
  "kernelspec": {
   "display_name": "Python 3 (ipykernel)",
   "language": "python",
   "name": "python3"
  },
  "language_info": {
   "codemirror_mode": {
    "name": "ipython",
    "version": 3
   },
   "file_extension": ".py",
   "mimetype": "text/x-python",
   "name": "python",
   "nbconvert_exporter": "python",
   "pygments_lexer": "ipython3",
   "version": "3.9.12"
  }
 },
 "nbformat": 4,
 "nbformat_minor": 1
}
