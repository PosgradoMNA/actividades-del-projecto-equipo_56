{
  "nbformat": 4,
  "nbformat_minor": 0,
  "metadata": {
    "colab": {
      "name": "assignment01.ipynb",
      "provenance": [],
      "include_colab_link": true
    },
    "kernelspec": {
      "name": "python3",
      "display_name": "Python 3"
    },
    "language_info": {
      "name": "python"
    }
  },
  "cells": [
    {
      "cell_type": "markdown",
      "metadata": {
        "id": "view-in-github",
        "colab_type": "text"
      },
      "source": [
        "<a href=\"https://colab.research.google.com/github/PosgradoMNA/actividades-del-projecto-equipo_56/blob/main/Actividad1_Equipo56.ipynb\" target=\"_parent\"><img src=\"https://colab.research.google.com/assets/colab-badge.svg\" alt=\"Open In Colab\"/></a>"
      ]
    },
    {
      "cell_type": "markdown",
      "source": [
        "**INSTITUTO TECNOLÓGICO Y DE ESTUDIOS SUPERIORES DE MONTERREY**\n",
        " \n",
        "\n",
        " \n",
        "**Maestría en Inteligencia Artificial**\n",
        "\n",
        "![LogoTec.jpg](data:image/jpeg;base64,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)\n",
        "\n",
        "**Presenta:**\n",
        "**Actividad 1**\n",
        "\n",
        "**Tema:**\n",
        "\n",
        "****\n",
        "\n",
        "**Materia:**\n",
        "\n",
        "**TC4029.10 - Ciencia y Análitica de Datos**\n",
        "\n",
        "**Profesor Titular:**\n",
        "**Dr. Jobish Vallikavungal Devassia**\n",
        "\n",
        "**Alumno:**\n",
        "\n",
        "*   **A01793625 - Luis Angel Hermenegildo Dominguez**\n",
        "*   **A01332665 - Hector Montañez Alvarez**\n",
        "\n",
        "\n",
        "\n",
        "\n",
        "**octubre de 2022**\n"
      ],
      "metadata": {
        "id": "jVfY2OpVqH8x"
      }
    },
    {
      "cell_type": "markdown",
      "source": [
        "*  **El nombre que caracteriza el conjunto de datos:**\n",
        "\n",
        "The comparisons of data mining techniques for the predictive accuracy of probability of default of credit card clients"
      ],
      "metadata": {
        "id": "d5BWP_B4q_ZO"
      }
    },
    {
      "cell_type": "markdown",
      "source": [
        "**URL DE LOS DATOS**\n",
        "\n",
        "https://raw.githubusercontent.com/PosgradoMNA/Actividades_Aprendizaje-/main/default%20of%20credit%20card%20clients.csv\n",
        "\n",
        "https://raw.githubusercontent.com/PosgradoMNA/Actividades_Aprendizaje-/main/dataset_info.txt\n",
        " (Yeh, 2009)"
      ],
      "metadata": {
        "id": "w8Z-8r4kLDTj"
      }
    },
    {
      "cell_type": "markdown",
      "source": [
        "**Parte 1: Fundamentos de bases de datos**\n",
        "\n",
        "Revisa la página Lecturas del tema 3: Conceptos de almacenamiento y recuperación de información, y describe tus insights o entendimiento de cada uno de los subtemas: (Alrededor de 200 palabras)\n",
        "\n",
        "Fundamentos de bases de datos y para ciencia de datos.  \n",
        "Fundamentos de almacenes de datos (Data Warehouse) para ciencia de datos."
      ],
      "metadata": {
        "id": "hqA2WZr6_vOw"
      }
    },
    {
      "cell_type": "markdown",
      "source": [
        "**ESCRIBIR PARTE 1 AQUÍ**"
      ],
      "metadata": {
        "id": "KP0M299l_1Dz"
      }
    },
    {
      "cell_type": "markdown",
      "source": [
        "**Parte 2: Selección y limpieza de los Datos en Python**\n",
        "\n",
        "Para este actividad usa el base de datos encontrados por aqui Enlaces a un sitio externo.:  su descripción aquiEnlaces a un sitio externo.. \n",
        "\n",
        "Revisa detenidamente la página Ejercicio guiado para: Selección y limpieza de los Datos en PythonEnlaces a un sitio externo.\n",
        "En Google Colab ( = Jupyter notebook, o bien alguna otra IDE de su interés), escribe tu código para realizar la selección y limpieza de los datos como se indica en el ejercicio.\n",
        "Ejecuta tu código.\n",
        "Explica con tus palabras (documentas las lineas del codigo en celdas del Text) como funciona tu programa indicando lo que realizaste en la programación, en minimum palabras. \n",
        " "
      ],
      "metadata": {
        "id": "OFrhK9TRAB32"
      }
    },
    {
      "cell_type": "markdown",
      "source": [
        "Se importan librerias Pandas y Numpy para manejo de los datos"
      ],
      "metadata": {
        "id": "edcmUqN1Esny"
      }
    },
    {
      "cell_type": "code",
      "source": [
        "import pandas as pd\n",
        "import numpy as np"
      ],
      "metadata": {
        "id": "0pI6CQH_EgF7"
      },
      "execution_count": 1,
      "outputs": []
    },
    {
      "cell_type": "markdown",
      "source": [
        "Lectura del archivo\n",
        "\n",
        "https://raw.githubusercontent.com/PosgradoMNA/Actividades_Aprendizaje-/main/default%20of%20credit%20card%20clients.csv"
      ],
      "metadata": {
        "id": "C1iqlgCwEyQ9"
      }
    },
    {
      "cell_type": "code",
      "source": [
        "df = pd.read_csv('https://raw.githubusercontent.com/PosgradoMNA/Actividades_Aprendizaje-/main/default%20of%20credit%20card%20clients.csv', index_col=0)\n",
        "df"
      ],
      "metadata": {
        "id": "31XU031WE2z8",
        "outputId": "f1503e6a-1f2f-49f0-ce26-e9b96f499df2",
        "colab": {
          "base_uri": "https://localhost:8080/",
          "height": 519
        }
      },
      "execution_count": 2,
      "outputs": [
        {
          "output_type": "execute_result",
          "data": {
            "text/plain": [
              "           X1   X2   X3   X4    X5   X6   X7   X8   X9  X10  ...      X15  \\\n",
              "ID                                                           ...            \n",
              "1       20000  2.0  2.0  1.0  24.0  2.0  2.0 -1.0 -1.0 -2.0  ...      0.0   \n",
              "2      120000  2.0  2.0  2.0  26.0 -1.0  2.0  0.0  0.0  0.0  ...   3272.0   \n",
              "3       90000  2.0  2.0  2.0  34.0  0.0  0.0  0.0  0.0  0.0  ...  14331.0   \n",
              "4       50000  2.0  2.0  1.0  37.0  0.0  0.0  0.0  0.0  0.0  ...  28314.0   \n",
              "5       50000  1.0  2.0  1.0  57.0 -1.0  0.0 -1.0  0.0  0.0  ...  20940.0   \n",
              "...       ...  ...  ...  ...   ...  ...  ...  ...  ...  ...  ...      ...   \n",
              "29996  220000  1.0  3.0  1.0  39.0  0.0  0.0  0.0  0.0  0.0  ...  88004.0   \n",
              "29997  150000  1.0  3.0  2.0  43.0 -1.0 -1.0 -1.0 -1.0  0.0  ...   8979.0   \n",
              "29998   30000  1.0  2.0  2.0  37.0  4.0  3.0  2.0 -1.0  0.0  ...  20878.0   \n",
              "29999   80000  1.0  3.0  1.0  41.0  1.0 -1.0  0.0  0.0  0.0  ...  52774.0   \n",
              "30000   50000  1.0  2.0  1.0  46.0  0.0  0.0  0.0  0.0  0.0  ...  36535.0   \n",
              "\n",
              "           X16      X17      X18      X19      X20     X21      X22     X23  \\\n",
              "ID                                                                            \n",
              "1          0.0      0.0      0.0    689.0      0.0     0.0      0.0     0.0   \n",
              "2       3455.0   3261.0      0.0   1000.0   1000.0  1000.0      0.0  2000.0   \n",
              "3      14948.0  15549.0   1518.0   1500.0   1000.0  1000.0   1000.0  5000.0   \n",
              "4      28959.0  29547.0   2000.0   2019.0   1200.0  1100.0   1069.0  1000.0   \n",
              "5      19146.0  19131.0   2000.0  36681.0  10000.0  9000.0    689.0   679.0   \n",
              "...        ...      ...      ...      ...      ...     ...      ...     ...   \n",
              "29996  31237.0  15980.0   8500.0  20000.0   5003.0  3047.0   5000.0  1000.0   \n",
              "29997   5190.0      0.0   1837.0   3526.0   8998.0   129.0      0.0     0.0   \n",
              "29998  20582.0  19357.0      0.0      0.0  22000.0  4200.0   2000.0  3100.0   \n",
              "29999  11855.0  48944.0  85900.0   3409.0   1178.0  1926.0  52964.0  1804.0   \n",
              "30000  32428.0  15313.0   2078.0   1800.0   1430.0  1000.0   1000.0  1000.0   \n",
              "\n",
              "         Y  \n",
              "ID          \n",
              "1      1.0  \n",
              "2      1.0  \n",
              "3      0.0  \n",
              "4      0.0  \n",
              "5      0.0  \n",
              "...    ...  \n",
              "29996  0.0  \n",
              "29997  0.0  \n",
              "29998  1.0  \n",
              "29999  1.0  \n",
              "30000  1.0  \n",
              "\n",
              "[30000 rows x 24 columns]"
            ],
            "text/html": [
              "\n",
              "  <div id=\"df-7da5d7bb-6e39-4282-ad1f-c1d2b6882fcd\">\n",
              "    <div class=\"colab-df-container\">\n",
              "      <div>\n",
              "<style scoped>\n",
              "    .dataframe tbody tr th:only-of-type {\n",
              "        vertical-align: middle;\n",
              "    }\n",
              "\n",
              "    .dataframe tbody tr th {\n",
              "        vertical-align: top;\n",
              "    }\n",
              "\n",
              "    .dataframe thead th {\n",
              "        text-align: right;\n",
              "    }\n",
              "</style>\n",
              "<table border=\"1\" class=\"dataframe\">\n",
              "  <thead>\n",
              "    <tr style=\"text-align: right;\">\n",
              "      <th></th>\n",
              "      <th>X1</th>\n",
              "      <th>X2</th>\n",
              "      <th>X3</th>\n",
              "      <th>X4</th>\n",
              "      <th>X5</th>\n",
              "      <th>X6</th>\n",
              "      <th>X7</th>\n",
              "      <th>X8</th>\n",
              "      <th>X9</th>\n",
              "      <th>X10</th>\n",
              "      <th>...</th>\n",
              "      <th>X15</th>\n",
              "      <th>X16</th>\n",
              "      <th>X17</th>\n",
              "      <th>X18</th>\n",
              "      <th>X19</th>\n",
              "      <th>X20</th>\n",
              "      <th>X21</th>\n",
              "      <th>X22</th>\n",
              "      <th>X23</th>\n",
              "      <th>Y</th>\n",
              "    </tr>\n",
              "    <tr>\n",
              "      <th>ID</th>\n",
              "      <th></th>\n",
              "      <th></th>\n",
              "      <th></th>\n",
              "      <th></th>\n",
              "      <th></th>\n",
              "      <th></th>\n",
              "      <th></th>\n",
              "      <th></th>\n",
              "      <th></th>\n",
              "      <th></th>\n",
              "      <th></th>\n",
              "      <th></th>\n",
              "      <th></th>\n",
              "      <th></th>\n",
              "      <th></th>\n",
              "      <th></th>\n",
              "      <th></th>\n",
              "      <th></th>\n",
              "      <th></th>\n",
              "      <th></th>\n",
              "      <th></th>\n",
              "    </tr>\n",
              "  </thead>\n",
              "  <tbody>\n",
              "    <tr>\n",
              "      <th>1</th>\n",
              "      <td>20000</td>\n",
              "      <td>2.0</td>\n",
              "      <td>2.0</td>\n",
              "      <td>1.0</td>\n",
              "      <td>24.0</td>\n",
              "      <td>2.0</td>\n",
              "      <td>2.0</td>\n",
              "      <td>-1.0</td>\n",
              "      <td>-1.0</td>\n",
              "      <td>-2.0</td>\n",
              "      <td>...</td>\n",
              "      <td>0.0</td>\n",
              "      <td>0.0</td>\n",
              "      <td>0.0</td>\n",
              "      <td>0.0</td>\n",
              "      <td>689.0</td>\n",
              "      <td>0.0</td>\n",
              "      <td>0.0</td>\n",
              "      <td>0.0</td>\n",
              "      <td>0.0</td>\n",
              "      <td>1.0</td>\n",
              "    </tr>\n",
              "    <tr>\n",
              "      <th>2</th>\n",
              "      <td>120000</td>\n",
              "      <td>2.0</td>\n",
              "      <td>2.0</td>\n",
              "      <td>2.0</td>\n",
              "      <td>26.0</td>\n",
              "      <td>-1.0</td>\n",
              "      <td>2.0</td>\n",
              "      <td>0.0</td>\n",
              "      <td>0.0</td>\n",
              "      <td>0.0</td>\n",
              "      <td>...</td>\n",
              "      <td>3272.0</td>\n",
              "      <td>3455.0</td>\n",
              "      <td>3261.0</td>\n",
              "      <td>0.0</td>\n",
              "      <td>1000.0</td>\n",
              "      <td>1000.0</td>\n",
              "      <td>1000.0</td>\n",
              "      <td>0.0</td>\n",
              "      <td>2000.0</td>\n",
              "      <td>1.0</td>\n",
              "    </tr>\n",
              "    <tr>\n",
              "      <th>3</th>\n",
              "      <td>90000</td>\n",
              "      <td>2.0</td>\n",
              "      <td>2.0</td>\n",
              "      <td>2.0</td>\n",
              "      <td>34.0</td>\n",
              "      <td>0.0</td>\n",
              "      <td>0.0</td>\n",
              "      <td>0.0</td>\n",
              "      <td>0.0</td>\n",
              "      <td>0.0</td>\n",
              "      <td>...</td>\n",
              "      <td>14331.0</td>\n",
              "      <td>14948.0</td>\n",
              "      <td>15549.0</td>\n",
              "      <td>1518.0</td>\n",
              "      <td>1500.0</td>\n",
              "      <td>1000.0</td>\n",
              "      <td>1000.0</td>\n",
              "      <td>1000.0</td>\n",
              "      <td>5000.0</td>\n",
              "      <td>0.0</td>\n",
              "    </tr>\n",
              "    <tr>\n",
              "      <th>4</th>\n",
              "      <td>50000</td>\n",
              "      <td>2.0</td>\n",
              "      <td>2.0</td>\n",
              "      <td>1.0</td>\n",
              "      <td>37.0</td>\n",
              "      <td>0.0</td>\n",
              "      <td>0.0</td>\n",
              "      <td>0.0</td>\n",
              "      <td>0.0</td>\n",
              "      <td>0.0</td>\n",
              "      <td>...</td>\n",
              "      <td>28314.0</td>\n",
              "      <td>28959.0</td>\n",
              "      <td>29547.0</td>\n",
              "      <td>2000.0</td>\n",
              "      <td>2019.0</td>\n",
              "      <td>1200.0</td>\n",
              "      <td>1100.0</td>\n",
              "      <td>1069.0</td>\n",
              "      <td>1000.0</td>\n",
              "      <td>0.0</td>\n",
              "    </tr>\n",
              "    <tr>\n",
              "      <th>5</th>\n",
              "      <td>50000</td>\n",
              "      <td>1.0</td>\n",
              "      <td>2.0</td>\n",
              "      <td>1.0</td>\n",
              "      <td>57.0</td>\n",
              "      <td>-1.0</td>\n",
              "      <td>0.0</td>\n",
              "      <td>-1.0</td>\n",
              "      <td>0.0</td>\n",
              "      <td>0.0</td>\n",
              "      <td>...</td>\n",
              "      <td>20940.0</td>\n",
              "      <td>19146.0</td>\n",
              "      <td>19131.0</td>\n",
              "      <td>2000.0</td>\n",
              "      <td>36681.0</td>\n",
              "      <td>10000.0</td>\n",
              "      <td>9000.0</td>\n",
              "      <td>689.0</td>\n",
              "      <td>679.0</td>\n",
              "      <td>0.0</td>\n",
              "    </tr>\n",
              "    <tr>\n",
              "      <th>...</th>\n",
              "      <td>...</td>\n",
              "      <td>...</td>\n",
              "      <td>...</td>\n",
              "      <td>...</td>\n",
              "      <td>...</td>\n",
              "      <td>...</td>\n",
              "      <td>...</td>\n",
              "      <td>...</td>\n",
              "      <td>...</td>\n",
              "      <td>...</td>\n",
              "      <td>...</td>\n",
              "      <td>...</td>\n",
              "      <td>...</td>\n",
              "      <td>...</td>\n",
              "      <td>...</td>\n",
              "      <td>...</td>\n",
              "      <td>...</td>\n",
              "      <td>...</td>\n",
              "      <td>...</td>\n",
              "      <td>...</td>\n",
              "      <td>...</td>\n",
              "    </tr>\n",
              "    <tr>\n",
              "      <th>29996</th>\n",
              "      <td>220000</td>\n",
              "      <td>1.0</td>\n",
              "      <td>3.0</td>\n",
              "      <td>1.0</td>\n",
              "      <td>39.0</td>\n",
              "      <td>0.0</td>\n",
              "      <td>0.0</td>\n",
              "      <td>0.0</td>\n",
              "      <td>0.0</td>\n",
              "      <td>0.0</td>\n",
              "      <td>...</td>\n",
              "      <td>88004.0</td>\n",
              "      <td>31237.0</td>\n",
              "      <td>15980.0</td>\n",
              "      <td>8500.0</td>\n",
              "      <td>20000.0</td>\n",
              "      <td>5003.0</td>\n",
              "      <td>3047.0</td>\n",
              "      <td>5000.0</td>\n",
              "      <td>1000.0</td>\n",
              "      <td>0.0</td>\n",
              "    </tr>\n",
              "    <tr>\n",
              "      <th>29997</th>\n",
              "      <td>150000</td>\n",
              "      <td>1.0</td>\n",
              "      <td>3.0</td>\n",
              "      <td>2.0</td>\n",
              "      <td>43.0</td>\n",
              "      <td>-1.0</td>\n",
              "      <td>-1.0</td>\n",
              "      <td>-1.0</td>\n",
              "      <td>-1.0</td>\n",
              "      <td>0.0</td>\n",
              "      <td>...</td>\n",
              "      <td>8979.0</td>\n",
              "      <td>5190.0</td>\n",
              "      <td>0.0</td>\n",
              "      <td>1837.0</td>\n",
              "      <td>3526.0</td>\n",
              "      <td>8998.0</td>\n",
              "      <td>129.0</td>\n",
              "      <td>0.0</td>\n",
              "      <td>0.0</td>\n",
              "      <td>0.0</td>\n",
              "    </tr>\n",
              "    <tr>\n",
              "      <th>29998</th>\n",
              "      <td>30000</td>\n",
              "      <td>1.0</td>\n",
              "      <td>2.0</td>\n",
              "      <td>2.0</td>\n",
              "      <td>37.0</td>\n",
              "      <td>4.0</td>\n",
              "      <td>3.0</td>\n",
              "      <td>2.0</td>\n",
              "      <td>-1.0</td>\n",
              "      <td>0.0</td>\n",
              "      <td>...</td>\n",
              "      <td>20878.0</td>\n",
              "      <td>20582.0</td>\n",
              "      <td>19357.0</td>\n",
              "      <td>0.0</td>\n",
              "      <td>0.0</td>\n",
              "      <td>22000.0</td>\n",
              "      <td>4200.0</td>\n",
              "      <td>2000.0</td>\n",
              "      <td>3100.0</td>\n",
              "      <td>1.0</td>\n",
              "    </tr>\n",
              "    <tr>\n",
              "      <th>29999</th>\n",
              "      <td>80000</td>\n",
              "      <td>1.0</td>\n",
              "      <td>3.0</td>\n",
              "      <td>1.0</td>\n",
              "      <td>41.0</td>\n",
              "      <td>1.0</td>\n",
              "      <td>-1.0</td>\n",
              "      <td>0.0</td>\n",
              "      <td>0.0</td>\n",
              "      <td>0.0</td>\n",
              "      <td>...</td>\n",
              "      <td>52774.0</td>\n",
              "      <td>11855.0</td>\n",
              "      <td>48944.0</td>\n",
              "      <td>85900.0</td>\n",
              "      <td>3409.0</td>\n",
              "      <td>1178.0</td>\n",
              "      <td>1926.0</td>\n",
              "      <td>52964.0</td>\n",
              "      <td>1804.0</td>\n",
              "      <td>1.0</td>\n",
              "    </tr>\n",
              "    <tr>\n",
              "      <th>30000</th>\n",
              "      <td>50000</td>\n",
              "      <td>1.0</td>\n",
              "      <td>2.0</td>\n",
              "      <td>1.0</td>\n",
              "      <td>46.0</td>\n",
              "      <td>0.0</td>\n",
              "      <td>0.0</td>\n",
              "      <td>0.0</td>\n",
              "      <td>0.0</td>\n",
              "      <td>0.0</td>\n",
              "      <td>...</td>\n",
              "      <td>36535.0</td>\n",
              "      <td>32428.0</td>\n",
              "      <td>15313.0</td>\n",
              "      <td>2078.0</td>\n",
              "      <td>1800.0</td>\n",
              "      <td>1430.0</td>\n",
              "      <td>1000.0</td>\n",
              "      <td>1000.0</td>\n",
              "      <td>1000.0</td>\n",
              "      <td>1.0</td>\n",
              "    </tr>\n",
              "  </tbody>\n",
              "</table>\n",
              "<p>30000 rows × 24 columns</p>\n",
              "</div>\n",
              "      <button class=\"colab-df-convert\" onclick=\"convertToInteractive('df-7da5d7bb-6e39-4282-ad1f-c1d2b6882fcd')\"\n",
              "              title=\"Convert this dataframe to an interactive table.\"\n",
              "              style=\"display:none;\">\n",
              "        \n",
              "  <svg xmlns=\"http://www.w3.org/2000/svg\" height=\"24px\"viewBox=\"0 0 24 24\"\n",
              "       width=\"24px\">\n",
              "    <path d=\"M0 0h24v24H0V0z\" fill=\"none\"/>\n",
              "    <path d=\"M18.56 5.44l.94 2.06.94-2.06 2.06-.94-2.06-.94-.94-2.06-.94 2.06-2.06.94zm-11 1L8.5 8.5l.94-2.06 2.06-.94-2.06-.94L8.5 2.5l-.94 2.06-2.06.94zm10 10l.94 2.06.94-2.06 2.06-.94-2.06-.94-.94-2.06-.94 2.06-2.06.94z\"/><path d=\"M17.41 7.96l-1.37-1.37c-.4-.4-.92-.59-1.43-.59-.52 0-1.04.2-1.43.59L10.3 9.45l-7.72 7.72c-.78.78-.78 2.05 0 2.83L4 21.41c.39.39.9.59 1.41.59.51 0 1.02-.2 1.41-.59l7.78-7.78 2.81-2.81c.8-.78.8-2.07 0-2.86zM5.41 20L4 18.59l7.72-7.72 1.47 1.35L5.41 20z\"/>\n",
              "  </svg>\n",
              "      </button>\n",
              "      \n",
              "  <style>\n",
              "    .colab-df-container {\n",
              "      display:flex;\n",
              "      flex-wrap:wrap;\n",
              "      gap: 12px;\n",
              "    }\n",
              "\n",
              "    .colab-df-convert {\n",
              "      background-color: #E8F0FE;\n",
              "      border: none;\n",
              "      border-radius: 50%;\n",
              "      cursor: pointer;\n",
              "      display: none;\n",
              "      fill: #1967D2;\n",
              "      height: 32px;\n",
              "      padding: 0 0 0 0;\n",
              "      width: 32px;\n",
              "    }\n",
              "\n",
              "    .colab-df-convert:hover {\n",
              "      background-color: #E2EBFA;\n",
              "      box-shadow: 0px 1px 2px rgba(60, 64, 67, 0.3), 0px 1px 3px 1px rgba(60, 64, 67, 0.15);\n",
              "      fill: #174EA6;\n",
              "    }\n",
              "\n",
              "    [theme=dark] .colab-df-convert {\n",
              "      background-color: #3B4455;\n",
              "      fill: #D2E3FC;\n",
              "    }\n",
              "\n",
              "    [theme=dark] .colab-df-convert:hover {\n",
              "      background-color: #434B5C;\n",
              "      box-shadow: 0px 1px 3px 1px rgba(0, 0, 0, 0.15);\n",
              "      filter: drop-shadow(0px 1px 2px rgba(0, 0, 0, 0.3));\n",
              "      fill: #FFFFFF;\n",
              "    }\n",
              "  </style>\n",
              "\n",
              "      <script>\n",
              "        const buttonEl =\n",
              "          document.querySelector('#df-7da5d7bb-6e39-4282-ad1f-c1d2b6882fcd button.colab-df-convert');\n",
              "        buttonEl.style.display =\n",
              "          google.colab.kernel.accessAllowed ? 'block' : 'none';\n",
              "\n",
              "        async function convertToInteractive(key) {\n",
              "          const element = document.querySelector('#df-7da5d7bb-6e39-4282-ad1f-c1d2b6882fcd');\n",
              "          const dataTable =\n",
              "            await google.colab.kernel.invokeFunction('convertToInteractive',\n",
              "                                                     [key], {});\n",
              "          if (!dataTable) return;\n",
              "\n",
              "          const docLinkHtml = 'Like what you see? Visit the ' +\n",
              "            '<a target=\"_blank\" href=https://colab.research.google.com/notebooks/data_table.ipynb>data table notebook</a>'\n",
              "            + ' to learn more about interactive tables.';\n",
              "          element.innerHTML = '';\n",
              "          dataTable['output_type'] = 'display_data';\n",
              "          await google.colab.output.renderOutput(dataTable, element);\n",
              "          const docLink = document.createElement('div');\n",
              "          docLink.innerHTML = docLinkHtml;\n",
              "          element.appendChild(docLink);\n",
              "        }\n",
              "      </script>\n",
              "    </div>\n",
              "  </div>\n",
              "  "
            ]
          },
          "metadata": {},
          "execution_count": 2
        }
      ]
    },
    {
      "cell_type": "markdown",
      "source": [
        "Validación de datos nulos"
      ],
      "metadata": {
        "id": "TfTnnNFAFZ2T"
      }
    },
    {
      "cell_type": "code",
      "source": [
        "df.isnull().values.any()"
      ],
      "metadata": {
        "id": "XZfb-fMaFcvL",
        "outputId": "1c02b772-8626-4fa8-cc96-e19cb4b0d174",
        "colab": {
          "base_uri": "https://localhost:8080/"
        }
      },
      "execution_count": 3,
      "outputs": [
        {
          "output_type": "execute_result",
          "data": {
            "text/plain": [
              "True"
            ]
          },
          "metadata": {},
          "execution_count": 3
        }
      ]
    },
    {
      "cell_type": "code",
      "source": [
        "df.isnull().any()"
      ],
      "metadata": {
        "id": "Sh3-KUeZFlEG",
        "outputId": "36e1c7df-bb11-4028-8d23-c739cc7fa2c8",
        "colab": {
          "base_uri": "https://localhost:8080/"
        }
      },
      "execution_count": 4,
      "outputs": [
        {
          "output_type": "execute_result",
          "data": {
            "text/plain": [
              "X1     False\n",
              "X2      True\n",
              "X3      True\n",
              "X4      True\n",
              "X5      True\n",
              "X6      True\n",
              "X7      True\n",
              "X8      True\n",
              "X9      True\n",
              "X10     True\n",
              "X11     True\n",
              "X12     True\n",
              "X13     True\n",
              "X14     True\n",
              "X15     True\n",
              "X16     True\n",
              "X17     True\n",
              "X18     True\n",
              "X19     True\n",
              "X20     True\n",
              "X21     True\n",
              "X22     True\n",
              "X23     True\n",
              "Y       True\n",
              "dtype: bool"
            ]
          },
          "metadata": {},
          "execution_count": 4
        }
      ]
    },
    {
      "cell_type": "markdown",
      "source": [
        "Se puede observar que casi todas las columnas cuentan con datos vacios.\n",
        "A continuación, se procede con la limpieza de los datos nulos"
      ],
      "metadata": {
        "id": "OcfuVTQ2F2a5"
      }
    },
    {
      "cell_type": "markdown",
      "source": [
        "**DESARROLLO AQUÍ**"
      ],
      "metadata": {
        "id": "K_Y2VfMJAICx"
      }
    },
    {
      "cell_type": "markdown",
      "source": [
        "**Parte 3: Preparación de los datos**\n",
        "\n",
        "Con base en los resultados de tu libreta de Google Colab de la Parte 2 responde detalladamente las siguientes preguntas: \n",
        "\n",
        "¿Qué datos considero mas importantes? ¿Por qué?\n",
        "\n",
        "¿Se eliminaron o reemplazaron datos nulos? ¿Qué se hizo y por qué?\n",
        "\n",
        "¿Es necesario ordenar los datos para el análisis? Sí / No / ¿Por qué?\n",
        "\n",
        "¿Existen problemas de formato que deban solucionar antes del proceso de modelado? Sí / No / Por qué.\n",
        "\n",
        "¿Qué ajustes se realizaron en el proceso de limpieza de datos (agregar, integrar, eliminar, modificar registros (filas), cambiar atributos (columnas)?\n",
        "\n",
        "Extensión: 400 palabras o más entre todas las respuestas. "
      ],
      "metadata": {
        "id": "1uBKj5lZAMoV"
      }
    },
    {
      "cell_type": "markdown",
      "source": [
        "**DESARROLLO AQUÍ O SOBRE LAS PREGUNTAS DE ARRIBA**"
      ],
      "metadata": {
        "id": "qJ7br3P0ASlM"
      }
    },
    {
      "cell_type": "markdown",
      "source": [
        "**Referencia bibliográfica**\n",
        "\n",
        "Yeh, I. C., & Lien, C. H. (2009). The comparisons of data mining techniques for the predictive accuracy of probability of default of credit card clients. Expert Systems with Applications, 36(2), 2473-2480."
      ],
      "metadata": {
        "id": "FBEkTp1IdXBO"
      }
    },
    {
      "cell_type": "code",
      "source": [],
      "metadata": {
        "id": "2a-A5DJb2Ebs"
      },
      "execution_count": null,
      "outputs": []
    }
  ]
}